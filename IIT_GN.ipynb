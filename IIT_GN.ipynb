{
  "nbformat": 4,
  "nbformat_minor": 0,
  "metadata": {
    "colab": {
      "name": "IIT-GN.ipynb",
      "provenance": []
    },
    "kernelspec": {
      "name": "python3",
      "display_name": "Python 3"
    },
    "language_info": {
      "name": "python"
    },
    "accelerator": "TPU"
  },
  "cells": [
    {
      "cell_type": "markdown",
      "source": [
        "#**Implement two hidden layers neural network classifier from scratch in JAX**"
      ],
      "metadata": {
        "id": "-tt2OvKIAWNH"
      }
    },
    {
      "cell_type": "code",
      "source": [
        "#TODO\n",
        "# Two hidden layers here means (input - hidden1 - hidden2 - output).\n",
        "# You must not use flax, optax, or any other library for this task.\n",
        "# Use MNIST dataset with 80:20 train:test split.\n",
        "# Manually optimize the number of neurons in hidden layers.\n",
        "# Use gradient descent from scratch to optimize your network. You should use the Pytree concept of JAX to do this elegantly.\n",
        "# Plot loss v/s iterations curve with matplotlib.\n",
        "# Evaluate the model on test data with various classification metrics and briefly discuss their implications.\n"
      ],
      "metadata": {
        "id": "1BXUeQorLKOa"
      },
      "execution_count": null,
      "outputs": []
    },
    {
      "cell_type": "markdown",
      "source": [
        "#**Importing Libraries**"
      ],
      "metadata": {
        "id": "z_AhVGfrpfP1"
      }
    },
    {
      "cell_type": "code",
      "execution_count": null,
      "metadata": {
        "id": "Tz3lRMtkEteU"
      },
      "outputs": [],
      "source": [
        "import numpy as np\n",
        "import jax\n",
        "import jax.numpy as jnp\n",
        "from jax.scipy.special import logsumexp\n",
        "from jax import grad, jit, vmap, pmap, random, value_and_grad\n",
        "from torchvision.datasets import MNIST\n",
        "from jax.experimental import optimizers\n",
        "import matplotlib.pyplot as plt"
      ]
    },
    {
      "cell_type": "markdown",
      "source": [
        "**Creating necessary variables**"
      ],
      "metadata": {
        "id": "y5X8DjcnpqRI"
      }
    },
    {
      "cell_type": "code",
      "source": [
        "size = [784, 512, 512, 10]\n",
        "scale = 0.01\n",
        "num_epochs = 50\n",
        "batch_size = 128\n",
        "n_targets = 10"
      ],
      "metadata": {
        "id": "gHnJCBZf1luh"
      },
      "execution_count": null,
      "outputs": []
    },
    {
      "cell_type": "markdown",
      "source": [
        "#**Importing Dataset and creating labels**"
      ],
      "metadata": {
        "id": "qc3Rn1EEpz3A"
      }
    },
    {
      "cell_type": "code",
      "source": [
        "import tensorflow as tf\n",
        "tf.config.set_visible_devices([], device_type='GPU')\n",
        "\n",
        "import tensorflow_datasets as tfds\n",
        "\n",
        "data_dir = '/tmp/tfds'\n",
        "\n",
        "mnist_data, info = tfds.load(name=\"mnist\", batch_size=-1, data_dir=data_dir, with_info=True)\n",
        "mnist_data = tfds.as_numpy(mnist_data)\n",
        "train_data, test_data = mnist_data['train'], mnist_data['test']\n",
        "\n",
        "num_labels = info.features['label'].num_classes\n",
        "h, w, c = info.features['image'].shape\n",
        "num_pixels = h * w * c\n",
        "\n",
        "# Full train set\n",
        "train_images, train_labels = train_data['image'], train_data['label']\n",
        "train_images = jnp.reshape(train_images, (len(train_images), num_pixels))\n",
        "train_labels = one_hot(train_labels, num_labels)\n",
        "\n",
        "# Full test set\n",
        "test_images, test_labels = test_data['image'], test_data['label']\n",
        "test_images = jnp.reshape(test_images, (len(test_images), num_pixels))\n",
        "test_labels = one_hot(test_labels, num_labels)"
      ],
      "metadata": {
        "id": "KBafcXsf-SNJ"
      },
      "execution_count": null,
      "outputs": []
    },
    {
      "cell_type": "code",
      "source": [
        "\n",
        "def init_MLP(widths, parent_keys):\n",
        "\n",
        "  params = []\n",
        "  keys = jax.random.split(parent_keys, len(widths))\n",
        "  for in_width, out_width, k in zip(widths[:-1], widths[1:], keys):\n",
        "    weight_key, bias_key = jax.random.split(k)\n",
        "    params.append(\n",
        "      [scale*jax.random.normal(weight_key, shape = (out_width, in_width)), \n",
        "       scale*jax.random.normal(bias_key, shape = (out_width,))]\n",
        "    )\n",
        "  return params\n",
        "\n",
        "\n",
        "key = jax.random.PRNGKey(0)\n",
        "MLP_params = init_MLP(size, key)\n"
      ],
      "metadata": {
        "id": "HNuqMygwE4T2"
      },
      "execution_count": null,
      "outputs": []
    },
    {
      "cell_type": "code",
      "source": [
        "def predict_MLP(params,x ):\n",
        "  activation = x\n",
        "  for w, b in params[:-1]: \n",
        "    output = jnp.dot(w, activation) + b\n",
        "    activation = jax.nn.relu(output)\n",
        "\n",
        "  w_last, b_last = params[-1]\n",
        "  logits = jnp.dot(w_last, activation) + b_last\n",
        "\n",
        "  return logits - logsumexp(logits)\n",
        "\n",
        "\n"
      ],
      "metadata": {
        "id": "7fuMd9D_EjLI"
      },
      "execution_count": null,
      "outputs": []
    },
    {
      "cell_type": "code",
      "source": [
        "random_flattened_images = random.normal(random.PRNGKey(1), (10, 28 * 28))\n",
        "\n",
        "batched_predict = vmap(predict_MLP, in_axes=(None, 0))\n",
        "batched_preds = batched_predict(MLP_params, random_flattened_images)"
      ],
      "metadata": {
        "id": "cIXapSH0GT9M"
      },
      "execution_count": null,
      "outputs": []
    },
    {
      "cell_type": "markdown",
      "source": [
        "#**Grad, Loss, Update FUnction**"
      ],
      "metadata": {
        "id": "1h8gtlPeqVtT"
      }
    },
    {
      "cell_type": "code",
      "source": [
        "def one_hot(x, k, dtype=jnp.float32):\n",
        "  \"\"\"Create a one-hot encoding of x of size k.\"\"\"\n",
        "  return jnp.array(x[:, None] == jnp.arange(k), dtype)\n",
        "  \n",
        "def accuracy(params, images, targets):\n",
        "  target_class = jnp.argmax(targets, axis=1)\n",
        "  predicted_class = jnp.argmax(batched_predict(MLP_params, images), axis=1)\n",
        "  return jnp.mean(predicted_class == target_class)\n",
        "\n",
        "def loss(params, images, targets):\n",
        "  preds = batched_predict(params, images)\n",
        "  return -jnp.mean(preds * targets)\n",
        "\n",
        "@jit\n",
        "def update(params, x, y):\n",
        "  grads = grad(loss)(params, x, y)\n",
        "  return [(w - scale * dw, b - scale * db)\n",
        "          for (w, b), (dw, db) in zip(params, grads)]"
      ],
      "metadata": {
        "id": "H3TmTztWGj64"
      },
      "execution_count": null,
      "outputs": []
    },
    {
      "cell_type": "code",
      "source": [
        "import time\n",
        "\n",
        "log_acc_train, log_acc_test, train_loss = [], [], []\n",
        "def get_train_batches():\n",
        "  # as_supervised=True gives us the (image, label) as a tuple instead of a dict\n",
        "  ds = tfds.load(name='mnist', split='train', as_supervised=True, data_dir=data_dir)\n",
        "  # You can build up an arbitrary tf.data input pipeline\n",
        "  ds = ds.batch(batch_size).prefetch(1)\n",
        "  # tfds.dataset_as_numpy converts the tf.data.Dataset into an iterable of NumPy arrays\n",
        "  return tfds.as_numpy(ds)\n",
        "\n",
        "train_acc = accuracy(MLP_params, train_images, train_labels)\n",
        "test_acc = accuracy(MLP_params, test_images, test_labels)\n",
        "log_acc_train.append(train_acc)\n",
        "log_acc_test.append(test_acc)\n",
        "\n",
        "for epoch in range(num_epochs):\n",
        "  start_time = time.time()\n",
        "  for x, y in get_train_batches():\n",
        "    x = jnp.reshape(x, (len(x), num_pixels))\n",
        "    y = one_hot(y, num_labels)\n",
        "    MLP_params = update(MLP_params, x, y)\n",
        "    #train_loss.append(loss)\n",
        "    train_loss.append(loss)\n",
        "   \n",
        "\n",
        "    \n",
        "  epoch_time = time.time() - start_time\n",
        "  train_acc = accuracy(MLP_params, train_images, train_labels)\n",
        "  test_acc = accuracy(MLP_params, test_images, test_labels)\n",
        "  log_acc_train.append(train_acc)\n",
        "  log_acc_test.append(test_acc)\n",
        "\n",
        "  print(\"Epoch {} in {:0.2f} sec\".format(epoch, epoch_time))\n",
        "  print(\"Training set accuracy {}\".format(train_acc))\n",
        "  print(\"Test set accuracy {}\".format(test_acc))\n",
        "  \n",
        "\n"
      ],
      "metadata": {
        "id": "bbhfh56QTQtC"
      },
      "execution_count": null,
      "outputs": []
    },
    {
      "cell_type": "code",
      "source": [
        "print(train_loss)\n",
        "print(log_acc_test)"
      ],
      "metadata": {
        "id": "mG75BQVQJ_lk"
      },
      "execution_count": null,
      "outputs": []
    },
    {
      "cell_type": "markdown",
      "source": [
        "#**Plotting Graphs**"
      ],
      "metadata": {
        "id": "7Ng0JvhEqAgY"
      }
    },
    {
      "cell_type": "code",
      "source": [
        "plt.plot(jnp.array(log_acc_test), jnp.array(log_acc_train))\n",
        "plt.show()"
      ],
      "metadata": {
        "colab": {
          "base_uri": "https://localhost:8080/",
          "height": 265
        },
        "id": "DRs7Lbbsix_J",
        "outputId": "354fca29-8ddd-4ee2-f75c-3a5dc0e3d2bb"
      },
      "execution_count": null,
      "outputs": [
        {
          "output_type": "display_data",
          "data": {
            "text/plain": [
              "<Figure size 432x288 with 1 Axes>"
            ],
            "image/png": "[encoded data removed]"
          },
          "metadata": {
            "needs_background": "light"
          }
        }
      ]
    },
    {
      "cell_type": "code",
      "source": [
        "mnist_img_size = (28, 28)"
      ],
      "metadata": {
        "id": "CTozxpYEEZYs"
      },
      "execution_count": null,
      "outputs": []
    },
    {
      "cell_type": "markdown",
      "source": [
        "#**Searching for dead neurons**\n",
        "**Manual optimization for the neurons**"
      ],
      "metadata": {
        "id": "weldEmoiqFmf"
      }
    },
    {
      "cell_type": "code",
      "source": [
        "\n",
        "\n",
        "def fetch_activations2(params, x):\n",
        "    hidden_layers = params[:-1]\n",
        "    collector = []\n",
        "\n",
        "    activation = x\n",
        "    for w, b in hidden_layers:\n",
        "        output = jnp.dot(w, activation) + b\n",
        "        activation = jax.nn.relu(output)\n",
        "        collector.append(activation)\n",
        "\n",
        "    return collector\n",
        "\n",
        "batched_fetch_activations2 = vmap(fetch_activations2, in_axes=(None, 0))\n",
        "\n",
        "imgs = next(iter(test_images))\n",
        "lbls = next(iter(test_labels))\n",
        "\n",
        "size1 = [784, 512, 256, 10]\n",
        "MLP_params2 = init_MLP(size1, key)\n",
        "\n",
        "batch_activations = batched_fetch_activations2(MLP_params2, imgs)\n",
        "print(batch_activations[1].shape)  # (128, 512/256)\n",
        "\n",
        "dead_neurons = [np.ones(act.shape[1:]) for act in batch_activations]\n",
        "\n",
        "for layer_id, activations in enumerate(batch_activations):\n",
        "    dead_neurons[layer_id] = np.logical_and(dead_neurons[layer_id], (activations == 0).all(axis=0))\n",
        "\n",
        "for layers in dead_neurons:\n",
        "    print(np.sum(layers))"
      ],
      "metadata": {
        "id": "lsfxu-9DBw7i"
      },
      "execution_count": null,
      "outputs": []
    }
  ]
}